{
 "cells": [
  {
   "cell_type": "markdown",
   "metadata": {
    "collapsed": true,
    "pycharm": {
     "name": "#%% md\n"
    }
   },
   "source": [
    "# CrunchieMunchies\n",
    "You work in marketing for a food company YummyCorps, which is developing a new kind of tasty, wholesome cereal called CrunchieMunchies. You want to demonstrate to consumers how healthy your cereal is in comparison to other leading brands, so you’ve dug up nutritional data on several different competitors.\n",
    "\n",
    "Your task is to use NumPy statistical calculations to analyze this data and prove that your CrunchieMunchies cereal is the healthiest choice for consumers."
   ]
  },
  {
   "cell_type": "markdown",
   "source": [
    "Look over the cereal.csv file. This file contains the reported calorie amounts for different cereal brands. Load the data from the file and save it as calorie_stats."
   ],
   "metadata": {
    "collapsed": false
   }
  },
  {
   "cell_type": "code",
   "execution_count": 1,
   "outputs": [],
   "source": [
    "import numpy as np\n",
    "\n",
    "calorie_stats = np.genfromtxt(\"files/cereal.csv\", delimiter=\",\")"
   ],
   "metadata": {
    "collapsed": false,
    "pycharm": {
     "name": "#%% \n",
     "is_executing": false
    }
   }
  },
  {
   "cell_type": "markdown",
   "source": [
    "There are 60 calories per serving of CrunchieMunchies. How much higher is the average calorie count of your competition?"
   ],
   "metadata": {
    "collapsed": false
   }
  },
  {
   "cell_type": "code",
   "execution_count": 2,
   "outputs": [
    {
     "name": "stdout",
     "text": [
      "106.88311688311688\n"
     ],
     "output_type": "stream"
    }
   ],
   "source": [
    "average_calories = np.mean(calorie_stats)\n",
    "print(average_calories)"
   ],
   "metadata": {
    "collapsed": false,
    "pycharm": {
     "name": "#%% \n",
     "is_executing": false
    }
   }
  },
  {
   "cell_type": "markdown",
   "source": [
    "Does the average calorie count adequately reflect the distribution of the dataset? Let’s sort the data and see."
   ],
   "metadata": {
    "collapsed": false
   }
  },
  {
   "cell_type": "code",
   "source": [
    "calorie_stats_sorted = np.sort(calorie_stats)\n",
    "print(calorie_stats_sorted)"
   ],
   "metadata": {
    "collapsed": false,
    "pycharm": {
     "name": "#%% \n",
     "is_executing": false
    }
   },
   "execution_count": 3,
   "outputs": [
    {
     "name": "stdout",
     "text": [
      "[ 50.  50.  50.  70.  70.  80.  90.  90.  90.  90.  90.  90.  90. 100.\n",
      " 100. 100. 100. 100. 100. 100. 100. 100. 100. 100. 100. 100. 100. 100.\n",
      " 100. 100. 110. 110. 110. 110. 110. 110. 110. 110. 110. 110. 110. 110.\n",
      " 110. 110. 110. 110. 110. 110. 110. 110. 110. 110. 110. 110. 110. 110.\n",
      " 110. 110. 110. 120. 120. 120. 120. 120. 120. 120. 120. 120. 120. 130.\n",
      " 130. 140. 140. 140. 150. 150. 160.]\n"
     ],
     "output_type": "stream"
    }
   ]
  },
  {
   "cell_type": "markdown",
   "source": [
    "Do you see what I’m seeing? Looks like the majority of the cereals are higher than the mean. Let’s see if the median is a better representative of the dataset."
   ],
   "metadata": {
    "collapsed": false
   }
  },
  {
   "cell_type": "code",
   "source": [
    "median_calories = np.median(calorie_stats)\n",
    "print(median_calories)"
   ],
   "metadata": {
    "collapsed": false,
    "pycharm": {
     "name": "#%% \n",
     "is_executing": false
    }
   },
   "execution_count": 4,
   "outputs": [
    {
     "name": "stdout",
     "text": [
      "110.0\n"
     ],
     "output_type": "stream"
    }
   ]
  },
  {
   "cell_type": "markdown",
   "source": [
    "While the median demonstrates that at least half of our values are over 100 calories, it would be more impressive to show that a significant portion of the competition has a higher calorie count that CrunchieMunchies.\n",
    "\n",
    "Calculate different percentiles and print them to the terminal until you find the lowest percentile that is greater than 60 calories. Save this value to the variable nth_percentile."
   ],
   "metadata": {
    "collapsed": false
   }
  },
  {
   "cell_type": "code",
   "execution_count": 8,
   "outputs": [
    {
     "name": "stdout",
     "text": [
      "percentile of 100 is 160.0\n",
      "percentile of 99 is 152.39999999999995\n",
      "percentile of 98 is 150.0\n",
      "percentile of 97 is 147.2\n",
      "percentile of 96 is 140.0\n",
      "percentile of 95 is 140.0\n",
      "percentile of 94 is 140.0\n",
      "percentile of 93 is 136.80000000000007\n",
      "percentile of 92 is 130.0\n",
      "percentile of 91 is 130.0\n",
      "percentile of 90 is 124.00000000000006\n",
      "percentile of 89 is 120.0\n",
      "percentile of 88 is 120.0\n",
      "percentile of 87 is 120.0\n",
      "percentile of 86 is 120.0\n",
      "percentile of 85 is 120.0\n",
      "percentile of 84 is 120.0\n",
      "percentile of 83 is 120.0\n",
      "percentile of 82 is 120.0\n",
      "percentile of 81 is 120.0\n",
      "percentile of 80 is 120.0\n",
      "percentile of 79 is 120.0\n",
      "percentile of 78 is 120.0\n",
      "percentile of 77 is 115.20000000000003\n",
      "percentile of 76 is 110.0\n",
      "percentile of 75 is 110.0\n",
      "percentile of 74 is 110.0\n",
      "percentile of 73 is 110.0\n",
      "percentile of 72 is 110.0\n",
      "percentile of 71 is 110.0\n",
      "percentile of 70 is 110.0\n",
      "percentile of 69 is 110.0\n",
      "percentile of 68 is 110.0\n",
      "percentile of 67 is 110.0\n",
      "percentile of 66 is 110.0\n",
      "percentile of 65 is 110.0\n",
      "percentile of 64 is 110.0\n",
      "percentile of 63 is 110.0\n",
      "percentile of 62 is 110.0\n",
      "percentile of 61 is 110.0\n",
      "percentile of 60 is 110.0\n",
      "percentile of 59 is 110.0\n",
      "percentile of 58 is 110.0\n",
      "percentile of 57 is 110.0\n",
      "percentile of 56 is 110.0\n",
      "percentile of 55 is 110.0\n",
      "percentile of 54 is 110.0\n",
      "percentile of 53 is 110.0\n",
      "percentile of 52 is 110.0\n",
      "percentile of 51 is 110.0\n",
      "percentile of 50 is 110.0\n",
      "percentile of 49 is 110.0\n",
      "percentile of 48 is 110.0\n",
      "percentile of 47 is 110.0\n",
      "percentile of 46 is 110.0\n",
      "percentile of 45 is 110.0\n",
      "percentile of 44 is 110.0\n",
      "percentile of 43 is 110.0\n",
      "percentile of 42 is 110.0\n",
      "percentile of 41 is 110.0\n",
      "percentile of 40 is 110.0\n",
      "percentile of 39 is 106.4\n",
      "percentile of 38 is 100.0\n",
      "percentile of 37 is 100.0\n",
      "percentile of 36 is 100.0\n",
      "percentile of 35 is 100.0\n",
      "percentile of 34 is 100.0\n",
      "percentile of 33 is 100.0\n",
      "percentile of 32 is 100.0\n",
      "percentile of 31 is 100.0\n",
      "percentile of 30 is 100.0\n",
      "percentile of 29 is 100.0\n",
      "percentile of 28 is 100.0\n",
      "percentile of 27 is 100.0\n",
      "percentile of 26 is 100.0\n",
      "percentile of 25 is 100.0\n",
      "percentile of 24 is 100.0\n",
      "percentile of 23 is 100.0\n",
      "percentile of 22 is 100.0\n",
      "percentile of 21 is 100.0\n",
      "percentile of 20 is 100.0\n",
      "percentile of 19 is 100.0\n",
      "percentile of 18 is 100.0\n",
      "percentile of 17 is 99.20000000000002\n",
      "percentile of 16 is 91.60000000000001\n",
      "percentile of 15 is 90.0\n",
      "percentile of 14 is 90.0\n",
      "percentile of 13 is 90.0\n",
      "percentile of 12 is 90.0\n",
      "percentile of 11 is 90.0\n",
      "percentile of 10 is 90.0\n",
      "percentile of 9 is 90.0\n",
      "percentile of 8 is 90.0\n",
      "percentile of 7 is 83.2\n",
      "percentile of 6 is 75.6\n",
      "percentile of 5 is 70.0\n",
      "percentile of 4 is 70.0\n",
      "percentile of 3 is 55.599999999999994\n"
     ],
     "output_type": "stream"
    }
   ],
   "source": [
    "n = 100\n",
    "percentile = np.percentile(calorie_stats, n)\n",
    "print(\"percentile of {} is {}\".format(n, percentile))\n",
    "\n",
    "while percentile > 60:\n",
    "  n -= 1\n",
    "  percentile = np.percentile(calorie_stats, n)\n",
    "  print(\"percentile of {} is {}\".format(n, percentile))\n",
    "nth_percentile = n + 1"
   ],
   "metadata": {
    "collapsed": false,
    "pycharm": {
     "name": "#%% \n",
     "is_executing": false
    }
   }
  },
  {
   "cell_type": "markdown",
   "source": [
    "While the percentile shows us that the majority of the competition has a much higher calorie count, it’s an awkward concept to use in marketing materials.\n",
    "\n",
    "Instead, let’s calculate the percentage of cereals that have more than 60 calories per serving. Save your answer to the variable more_calories and print it to the terminal."
   ],
   "metadata": {
    "collapsed": false
   }
  },
  {
   "cell_type": "code",
   "execution_count": 9,
   "outputs": [
    {
     "name": "stdout",
     "text": [
      "0.961038961038961\n"
     ],
     "output_type": "stream"
    }
   ],
   "source": [
    "more_calories = np.mean(calorie_stats > 60)\n",
    "print(more_calories)"
   ],
   "metadata": {
    "collapsed": false,
    "pycharm": {
     "name": "#%% \n",
     "is_executing": false
    }
   }
  },
  {
   "cell_type": "markdown",
   "source": [
    "Wow! That’s a really high percentage. That’s going to be very useful when we promote CrunchieMunchies. But one question is, how much variation exists in the dataset? Can we make the generalization that most cereals have around 100 calories or is the spread even greater?\n",
    "\n",
    "Calculate the amount of variation by finding the standard deviation. Save your answer to calorie_std and print to the terminal. How can we incorporate this value into our analysis?"
   ],
   "metadata": {
    "collapsed": false
   }
  },
  {
   "cell_type": "code",
   "execution_count": 10,
   "outputs": [
    {
     "name": "stdout",
     "text": [
      "19.35718533390827\n"
     ],
     "output_type": "stream"
    }
   ],
   "source": [
    "calorie_std = np.std(calorie_stats)\n",
    "print(calorie_std)\n",
    "\n"
   ],
   "metadata": {
    "collapsed": false,
    "pycharm": {
     "name": "#%% \n",
     "is_executing": false
    }
   }
  }
 ],
 "metadata": {
  "kernelspec": {
   "display_name": "Python 3",
   "language": "python",
   "name": "python3"
  },
  "language_info": {
   "codemirror_mode": {
    "name": "ipython",
    "version": 2
   },
   "file_extension": ".py",
   "mimetype": "text/x-python",
   "name": "python",
   "nbconvert_exporter": "python",
   "pygments_lexer": "ipython2",
   "version": "2.7.6"
  },
  "pycharm": {
   "stem_cell": {
    "cell_type": "raw",
    "source": [],
    "metadata": {
     "collapsed": false
    }
   }
  }
 },
 "nbformat": 4,
 "nbformat_minor": 0
}