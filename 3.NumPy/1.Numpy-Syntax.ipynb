{
 "cells": [
  {
   "cell_type": "markdown",
   "metadata": {
    "collapsed": true,
    "pycharm": {
     "name": "#%% md\n"
    }
   },
   "source": [
    "# Betty's Bakery\n",
    "Betty has always used her grandmother’s recipe book to make cookies, cakes, pancakes, and bread for her friends and family. She’s getting ready to open a business and will need to start buying all of her milk, eggs, sugar, flour, and butter in bulk.\n",
    "\n",
    "Help Betty figure out how much she needs to buy using NumPy arrays describing her recipes."
   ]
  },
  {
   "cell_type": "markdown",
   "source": [
    "All of Betty’s recipes call for milk, eggs, sugar, flour, and butter. For example, her cupcake recipe calls for:\n",
    "\n",
    "Flour\tSugar\tEggs\tMilk\tButter\n",
    "2 cups\t0.75 cups\t2 eggs\t1 cups\t0.5 cups\n",
    "\n",
    "Create a NumPy array that represents this data. "
   ],
   "metadata": {
    "collapsed": false
   }
  },
  {
   "cell_type": "code",
   "execution_count": 1,
   "outputs": [],
   "source": [
    "import numpy as np\n",
    "\n",
    "# milk, eggs, sugar, flour, butter\n",
    "cupcakes = np.array([2, 0.75, 2, 1, 0.5])"
   ],
   "metadata": {
    "collapsed": false,
    "pycharm": {
     "name": "#%% \n",
     "is_executing": false
    }
   }
  },
  {
   "cell_type": "markdown",
   "source": [
    "Betty’s assistant has compiled all of her recipes into a csv (comma-separated variable) file called recipes.csv. Load this file into a variable called recipes."
   ],
   "metadata": {
    "collapsed": false,
    "pycharm": {
     "name": "#%% md\n"
    }
   }
  },
  {
   "cell_type": "code",
   "execution_count": 2,
   "outputs": [
    {
     "name": "stdout",
     "text": [
      " Flour   Sugar   Eggs   Milk   Butter\n",
      "[[2.    0.75  2.    1.    0.5  ]\n",
      " [1.    0.125 1.    1.    0.125]\n",
      " [2.75  1.5   1.    0.    1.   ]\n",
      " [4.    0.5   2.    2.    0.5  ]]\n"
     ],
     "output_type": "stream"
    }
   ],
   "source": [
    "recipes = np.genfromtxt('files/recipes.csv', delimiter=',')\n",
    "\n",
    "print(\" Flour   Sugar   Eggs   Milk   Butter\")\n",
    "print(recipes)"
   ],
   "metadata": {
    "collapsed": false,
    "pycharm": {
     "name": "#%% \n",
     "is_executing": false
    }
   }
  },
  {
   "cell_type": "markdown",
   "source": [
    "The 3rd column represents the number of eggs that each recipe needs.\n",
    "\n",
    "Select all elements from the 3rd column and save them to the variable eggs."
   ],
   "metadata": {
    "collapsed": false
   }
  },
  {
   "cell_type": "code",
   "execution_count": 3,
   "outputs": [
    {
     "name": "stdout",
     "text": [
      "1.0\n"
     ],
     "output_type": "stream"
    }
   ],
   "source": [
    "eggs = recipes[1, 2]\n",
    "print(eggs)"
   ],
   "metadata": {
    "collapsed": false,
    "pycharm": {
     "name": "#%% \n",
     "is_executing": false
    }
   }
  },
  {
   "cell_type": "markdown",
   "source": [
    "Betty is going to make 2 batches of cupcakes (1st row) and 1 batch of cookies (3rd row).\n",
    "\n",
    "You already have a variable for cupcakes. Create a variable for cookies with the data from the 3rd row."
   ],
   "metadata": {
    "collapsed": false
   }
  },
  {
   "cell_type": "code",
   "execution_count": 5,
   "outputs": [
    {
     "name": "stdout",
     "text": [
      "Cookie\n",
      "[2.75 1.5  1.   0.   1.  ]\n"
     ],
     "output_type": "stream"
    }
   ],
   "source": [
    "cookie = recipes[2,:]\n",
    "print(\"Cookie\")\n",
    "print(cookie)"
   ],
   "metadata": {
    "collapsed": false,
    "pycharm": {
     "name": "#%% \n",
     "is_executing": false
    }
   }
  },
  {
   "cell_type": "markdown",
   "source": [
    "Which recipes require exactly 1 egg? Use a logical statement to get True or False for each value of eggs."
   ],
   "metadata": {
    "collapsed": false
   }
  },
  {
   "cell_type": "code",
   "execution_count": 6,
   "outputs": [
    {
     "name": "stdout",
     "text": [
      "Cupcakes Pancake Cookie Bread\n",
      "[False  True  True False]\n"
     ],
     "output_type": "stream"
    }
   ],
   "source": [
    "print(\"Cupcakes Pancake Cookie Bread\")\n",
    "print(recipes[:,2] == 1)\n"
   ],
   "metadata": {
    "collapsed": false,
    "pycharm": {
     "name": "#%% \n",
     "is_executing": false
    }
   }
  },
  {
   "cell_type": "markdown",
   "source": [
    "Get the number of ingredients for a double batch of cupcakes by using multiplication on cupcakes. Save your new variable to double_batch."
   ],
   "metadata": {
    "collapsed": false
   }
  },
  {
   "cell_type": "code",
   "execution_count": 7,
   "outputs": [
    {
     "name": "stdout",
     "text": [
      "Cupcakes\n",
      "[2.   0.75 2.   1.   0.5 ]\n",
      "Double Cupcakes\n",
      "[4.  1.5 4.  2.  1. ]\n"
     ],
     "output_type": "stream"
    }
   ],
   "source": [
    "print(\"Cupcakes\")\n",
    "print(cupcakes)\n",
    "double_batch_cupcakes = cupcakes * 2\n",
    "print(\"Double Cupcakes\")\n",
    "print(double_batch_cupcakes)"
   ],
   "metadata": {
    "collapsed": false,
    "pycharm": {
     "name": "#%% \n",
     "is_executing": false
    }
   }
  },
  {
   "cell_type": "markdown",
   "source": [
    "Create a new variable called grocery_list by adding cookies and double_batch."
   ],
   "metadata": {
    "collapsed": false
   }
  },
  {
   "cell_type": "code",
   "execution_count": 8,
   "outputs": [
    {
     "name": "stdout",
     "text": [
      "Grocery list\n",
      "[6.75 3.   5.   2.   2.  ]\n"
     ],
     "output_type": "stream"
    }
   ],
   "source": [
    "grocery_list = cookie + double_batch_cupcakes\n",
    "print(\"Grocery list\")\n",
    "print(grocery_list)"
   ],
   "metadata": {
    "collapsed": false,
    "pycharm": {
     "name": "#%% \n",
     "is_executing": false
    }
   }
  }
 ],
 "metadata": {
  "kernelspec": {
   "display_name": "Python 3",
   "language": "python",
   "name": "python3"
  },
  "language_info": {
   "codemirror_mode": {
    "name": "ipython",
    "version": 2
   },
   "file_extension": ".py",
   "mimetype": "text/x-python",
   "name": "python",
   "nbconvert_exporter": "python",
   "pygments_lexer": "ipython2",
   "version": "2.7.6"
  },
  "pycharm": {
   "stem_cell": {
    "cell_type": "raw",
    "source": [],
    "metadata": {
     "collapsed": false
    }
   }
  }
 },
 "nbformat": 4,
 "nbformat_minor": 0
}