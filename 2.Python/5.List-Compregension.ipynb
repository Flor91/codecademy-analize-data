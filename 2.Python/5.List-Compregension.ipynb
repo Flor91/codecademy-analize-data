{
 "cells": [
  {
   "cell_type": "markdown",
   "metadata": {
    "collapsed": true,
    "pycharm": {
     "name": "#%% md\n"
    }
   },
   "source": [
    "# List Comprehension Challenge"
   ]
  },
  {
   "cell_type": "markdown",
   "source": [
    "Create a new list named double_nums by multiplying each number in nums by two."
   ],
   "metadata": {
    "collapsed": false
   }
  },
  {
   "cell_type": "code",
   "execution_count": 2,
   "outputs": [
    {
     "name": "stdout",
     "text": [
      "[8, 16, 30, 32, 46, 84]\n"
     ],
     "output_type": "stream"
    }
   ],
   "source": [
    "nums = [4, 8, 15, 16, 23, 42]\n",
    "double_nums = [n * 2 for n in nums]\n",
    "print(double_nums)"
   ],
   "metadata": {
    "collapsed": false,
    "pycharm": {
     "name": "#%% \n",
     "is_executing": false
    }
   }
  },
  {
   "cell_type": "markdown",
   "source": [
    "You’ve been given a list of the numbers between 0 and 10. We created this list using the range function! Create a new list named squares that contains the square of every number in this list."
   ],
   "metadata": {
    "collapsed": false,
    "pycharm": {
     "name": "#%% md\n"
    }
   }
  },
  {
   "cell_type": "code",
   "execution_count": 3,
   "outputs": [
    {
     "name": "stdout",
     "text": [
      "[0, 1, 4, 9, 16, 25, 36, 49, 64, 81, 100]\n"
     ],
     "output_type": "stream"
    }
   ],
   "source": [
    "nums = range(11)\n",
    "\n",
    "squares = [n ** 2 for n in nums]\n",
    "print(squares)\n"
   ],
   "metadata": {
    "collapsed": false,
    "pycharm": {
     "name": "#%%\n",
     "is_executing": false
    }
   }
  },
  {
   "cell_type": "markdown",
   "source": [
    "Create a new list named add_ten that adds ten to every element in the list nums."
   ],
   "metadata": {
    "collapsed": false,
    "pycharm": {
     "name": "#%% md\n"
    }
   }
  },
  {
   "cell_type": "code",
   "execution_count": 4,
   "outputs": [
    {
     "name": "stdout",
     "text": [
      "[14, 18, 25, 26, 33, 52]\n"
     ],
     "output_type": "stream"
    }
   ],
   "source": [
    "nums = [4, 8, 15, 16, 23, 42]\n",
    "add_ten = [n + 10 for n in nums]\n",
    "print(add_ten)"
   ],
   "metadata": {
    "collapsed": false,
    "pycharm": {
     "name": "#%%\n",
     "is_executing": false
    }
   }
  },
  {
   "cell_type": "markdown",
   "source": [
    "Create a new list named parity that contains a 1 or a 0 for each element of nums. For each element, if that element was even, the new list should contain a 0. If the element was odd, the new list should contain a 1."
   ],
   "metadata": {
    "collapsed": false,
    "pycharm": {
     "name": "#%% md\n"
    }
   }
  },
  {
   "cell_type": "code",
   "execution_count": 5,
   "outputs": [
    {
     "name": "stdout",
     "text": [
      "[0, 0, 1, 0, 1, 0]\n"
     ],
     "output_type": "stream"
    }
   ],
   "source": [
    "nums = [4, 8, 15, 16, 23, 42]\n",
    "\n",
    "parity = [n % 2 for n in nums]\n",
    "print(parity)\n"
   ],
   "metadata": {
    "collapsed": false,
    "pycharm": {
     "name": "#%%\n",
     "is_executing": false
    }
   }
  },
  {
   "cell_type": "markdown",
   "source": [
    "Create a new list named greetings that adds \"Hello, \" in front of each name in the list names."
   ],
   "metadata": {
    "collapsed": false,
    "pycharm": {
     "name": "#%% md\n"
    }
   }
  },
  {
   "cell_type": "code",
   "execution_count": 6,
   "outputs": [
    {
     "name": "stdout",
     "text": [
      "['Hello, Elaine', 'Hello, George', 'Hello, Jerry', 'Hello, Cosmo']\n"
     ],
     "output_type": "stream"
    }
   ],
   "source": [
    "names = [\"Elaine\", \"George\", \"Jerry\", \"Cosmo\"]\n",
    "\n",
    "greetings = [\"Hello, \" + n for n in names]\n",
    "print(greetings)\n"
   ],
   "metadata": {
    "collapsed": false,
    "pycharm": {
     "name": "#%%\n",
     "is_executing": false
    }
   }
  },
  {
   "cell_type": "markdown",
   "source": [
    "Create a new list named first_character that contains the first character from every name in the list names"
   ],
   "metadata": {
    "collapsed": false,
    "pycharm": {
     "name": "#%% md\n"
    }
   }
  },
  {
   "cell_type": "code",
   "execution_count": 7,
   "outputs": [
    {
     "name": "stdout",
     "text": [
      "['E', 'G', 'J', 'C']\n"
     ],
     "output_type": "stream"
    }
   ],
   "source": [
    "names = [\"Elaine\", \"George\", \"Jerry\", \"Cosmo\"]\n",
    "\n",
    "first_character = [name[0] for name in names]\n",
    "print(first_character)"
   ],
   "metadata": {
    "collapsed": false,
    "pycharm": {
     "name": "#%%\n",
     "is_executing": false
    }
   }
  },
  {
   "cell_type": "markdown",
   "source": [
    "Create a new list named lengths that contains the size of each name in the list of names"
   ],
   "metadata": {
    "collapsed": false,
    "pycharm": {
     "name": "#%% md\n"
    }
   }
  },
  {
   "cell_type": "code",
   "execution_count": 8,
   "outputs": [
    {
     "name": "stdout",
     "text": [
      "[6, 6, 5, 5]\n"
     ],
     "output_type": "stream"
    }
   ],
   "source": [
    "names = [\"Elaine\", \"George\", \"Jerry\", \"Cosmo\"]\n",
    "\n",
    "lengths = [len(name) for name in names]\n",
    "print(lengths)\n"
   ],
   "metadata": {
    "collapsed": false,
    "pycharm": {
     "name": "#%%\n",
     "is_executing": false
    }
   }
  },
  {
   "cell_type": "markdown",
   "source": [
    "Create a new list named opposite that contains the opposite boolean for each element in the list booleans."
   ],
   "metadata": {
    "collapsed": false,
    "pycharm": {
     "name": "#%% md\n"
    }
   }
  },
  {
   "cell_type": "code",
   "execution_count": 9,
   "outputs": [
    {
     "name": "stdout",
     "text": [
      "[False, True, False]\n"
     ],
     "output_type": "stream"
    }
   ],
   "source": [
    "booleans = [True, False, True]\n",
    "\n",
    "opposite = [not a for a in booleans]\n",
    "print(opposite)"
   ],
   "metadata": {
    "collapsed": false,
    "pycharm": {
     "name": "#%%\n",
     "is_executing": false
    }
   }
  },
  {
   "cell_type": "markdown",
   "source": [
    "Create a new list called is_Jerry, in which an entry at position i is True if the entry in names at position i equals \"Jerry\". The entry should be False otherwise"
   ],
   "metadata": {
    "collapsed": false,
    "pycharm": {
     "name": "#%% md\n"
    }
   }
  },
  {
   "cell_type": "code",
   "execution_count": 10,
   "outputs": [],
   "source": [
    "names = [\"Elaine\", \"George\", \"Jerry\", \"Cosmo\"]\n",
    "\n",
    "is_Jerry = [name == \"Jerry\" for name in names]\n"
   ],
   "metadata": {
    "collapsed": false,
    "pycharm": {
     "name": "#%%\n",
     "is_executing": false
    }
   }
  },
  {
   "cell_type": "markdown",
   "source": [
    "Create a new list called greater_than_two, in which an entry at position i is True if the entry in nums at position i is greater than 2."
   ],
   "metadata": {
    "collapsed": false,
    "pycharm": {
     "name": "#%% md\n"
    }
   }
  },
  {
   "cell_type": "code",
   "execution_count": 12,
   "outputs": [
    {
     "name": "stdout",
     "text": [
      "[True, False, True, True, False]\n"
     ],
     "output_type": "stream"
    }
   ],
   "source": [
    "nums = [5, -10, 40, 20, 0]\n",
    "\n",
    "greater_than_two = [i > 2 for i in nums]\n",
    "print(greater_than_two)"
   ],
   "metadata": {
    "collapsed": false,
    "pycharm": {
     "name": "#%% \n",
     "is_executing": false
    }
   }
  },
  {
   "cell_type": "markdown",
   "source": [
    "Create a new list named product that contains the product of each sub-list of nested_lists."
   ],
   "metadata": {
    "collapsed": false
   }
  },
  {
   "cell_type": "code",
   "execution_count": 13,
   "outputs": [
    {
     "name": "stdout",
     "text": [
      "[32, 240, 966]\n"
     ],
     "output_type": "stream"
    }
   ],
   "source": [
    "nested_lists = [[4, 8], [15, 16], [23, 42]]\n",
    "\n",
    "product = [x * y for (x, y) in nested_lists]\n",
    "print(product)"
   ],
   "metadata": {
    "collapsed": false,
    "pycharm": {
     "name": "#%% \n",
     "is_executing": false
    }
   }
  },
  {
   "cell_type": "markdown",
   "source": [
    "Create a new list named greater_than that contains True if the first number in the sub-list is greater than the second number in the sub-list, and False otherwise."
   ],
   "metadata": {
    "collapsed": false
   }
  },
  {
   "cell_type": "code",
   "execution_count": 14,
   "outputs": [
    {
     "name": "stdout",
     "text": [
      "[False, True, False]\n"
     ],
     "output_type": "stream"
    }
   ],
   "source": [
    "nested_lists = [[4, 8], [16, 15], [23, 42]]\n",
    "greater_than = [x>y for (x,y) in nested_lists]\n",
    "print(greater_than)"
   ],
   "metadata": {
    "collapsed": false,
    "pycharm": {
     "name": "#%% \n",
     "is_executing": false
    }
   }
  },
  {
   "cell_type": "markdown",
   "source": [
    "Create a new list named first_only that contains the first element in each sub-list of nested_lists."
   ],
   "metadata": {
    "collapsed": false
   }
  },
  {
   "cell_type": "code",
   "execution_count": 15,
   "outputs": [
    {
     "name": "stdout",
     "text": [
      "[4, 16, 23]\n"
     ],
     "output_type": "stream"
    }
   ],
   "source": [
    "nested_lists = [[4, 8], [16, 15], [23, 42]]\n",
    "first_only = [x for (x, y) in nested_lists]\n",
    "print(first_only)"
   ],
   "metadata": {
    "collapsed": false,
    "pycharm": {
     "name": "#%% \n",
     "is_executing": false
    }
   }
  },
  {
   "cell_type": "markdown",
   "source": [
    "Use list comprehension and the zip function to create a new list named sums that sums corresponding items in lists a and b. For example, the first item in the new list should be 5 from adding 1 and 4 together."
   ],
   "metadata": {
    "collapsed": false
   }
  },
  {
   "cell_type": "code",
   "execution_count": 16,
   "outputs": [
    {
     "name": "stdout",
     "text": [
      "[5.0, 7.0, 9.0]\n"
     ],
     "output_type": "stream"
    }
   ],
   "source": [
    "a = [1.0, 2.0, 3.0]\n",
    "b = [4.0, 5.0, 6.0]\n",
    "\n",
    "sums = [x + y for (x,y) in zip(a, b)]\n",
    "print(sums)"
   ],
   "metadata": {
    "collapsed": false,
    "pycharm": {
     "name": "#%% \n",
     "is_executing": false
    }
   }
  },
  {
   "cell_type": "markdown",
   "source": [
    "Use list comprehension and the zip function to create a new list named quotients that divides the elements in list b by those in list a . For example, the second item in the new list should be 2.5 from dividing 5.0 by 2.0."
   ],
   "metadata": {
    "collapsed": false
   }
  },
  {
   "cell_type": "code",
   "execution_count": 19,
   "outputs": [
    {
     "name": "stdout",
     "text": [
      "[4.0, 2.5, 2.0]\n"
     ],
     "output_type": "stream"
    }
   ],
   "source": [
    "a = [1.0, 2.0, 3.0]\n",
    "b = [4.0, 5.0, 6.0]\n",
    "\n",
    "quotients = [y/x for (x, y) in zip(a, b)]\n",
    "print(quotients)"
   ],
   "metadata": {
    "collapsed": false,
    "pycharm": {
     "name": "#%% \n",
     "is_executing": false
    }
   }
  },
  {
   "cell_type": "markdown",
   "source": [
    "You’ve been given two lists: a list of capitals and a list of countries. Create a new list named locations that contains the string \"capital, country\" for each item in the original lists. For example, if the 5th item in the capitals list is \"Lima\" and the 5th item in the countries list is \"Peru\", then the 5th item in the new list should be \"Lima, Peru\""
   ],
   "metadata": {
    "collapsed": false
   }
  },
  {
   "cell_type": "code",
   "execution_count": 18,
   "outputs": [
    {
     "name": "stdout",
     "text": [
      "['Santiago, Chile', 'Paris, France', 'Copenhagen, Denmark']\n"
     ],
     "output_type": "stream"
    }
   ],
   "source": [
    "capitals = [\"Santiago\", \"Paris\", \"Copenhagen\"]\n",
    "countries = [\"Chile\", \"France\", \"Denmark\"]\n",
    "\n",
    "locations = [\", \".join([x, y]) for (x,y) in zip(capitals, countries)]\n",
    "print(locations)"
   ],
   "metadata": {
    "collapsed": false,
    "pycharm": {
     "name": "#%% \n",
     "is_executing": false
    }
   }
  },
  {
   "cell_type": "markdown",
   "source": [
    "You’ve been given two lists: a list of names and a list of ages. Create a new list named users that contains the string \"Name: name, Age: age\" for each pair of elements in the original lists. For example, if the 5th item in the names list is \"John\" and the 5th item in ages is 42, then the 5th item in the new list should be \"Name: John, Age: 42\".\n",
    "\n",
    "As you did in the previous exercise, concatenate your strings together using +. Make sure to add proper capitalization and spaces."
   ],
   "metadata": {
    "collapsed": false
   }
  },
  {
   "cell_type": "code",
   "execution_count": 20,
   "outputs": [
    {
     "name": "stdout",
     "text": [
      "['Name: Jon, Age: 14', 'Name: Arya, Age: 9', 'Name: Ned, Age: 35']\n"
     ],
     "output_type": "stream"
    }
   ],
   "source": [
    "names = [\"Jon\", \"Arya\", \"Ned\"]\n",
    "ages = [14, 9, 35]\n",
    "\n",
    "users = [\"Name: \" + name + \", Age: \" + str(age) for (name, age) in zip(names, ages)]\n",
    "print(users)"
   ],
   "metadata": {
    "collapsed": false,
    "pycharm": {
     "name": "#%% \n",
     "is_executing": false
    }
   }
  },
  {
   "cell_type": "markdown",
   "source": [
    "Create a new list named greater_than that contains True or False depending on whether the corresponding item in list a is greater than the one in list b. For example, if the 2nd item in list a is 3, and the 2nd item in list b is 5, the 2nd item in the new list should be False."
   ],
   "metadata": {
    "collapsed": false
   }
  },
  {
   "cell_type": "code",
   "execution_count": 21,
   "outputs": [
    {
     "name": "stdout",
     "text": [
      "[True, True, False]\n"
     ],
     "output_type": "stream"
    }
   ],
   "source": [
    "a = [30, 42, 10]\n",
    "b = [15, 16, 17]\n",
    "\n",
    "greater_than = [x>y for (x,y) in zip(a, b)]\n",
    "print(greater_than)\n"
   ],
   "metadata": {
    "collapsed": false,
    "pycharm": {
     "name": "#%% \n",
     "is_executing": false
    }
   }
  }
 ],
 "metadata": {
  "kernelspec": {
   "display_name": "Python 3",
   "language": "python",
   "name": "python3"
  },
  "language_info": {
   "codemirror_mode": {
    "name": "ipython",
    "version": 2
   },
   "file_extension": ".py",
   "mimetype": "text/x-python",
   "name": "python",
   "nbconvert_exporter": "python",
   "pygments_lexer": "ipython2",
   "version": "2.7.6"
  },
  "pycharm": {
   "stem_cell": {
    "cell_type": "raw",
    "source": [],
    "metadata": {
     "collapsed": false
    }
   }
  }
 },
 "nbformat": 4,
 "nbformat_minor": 0
}