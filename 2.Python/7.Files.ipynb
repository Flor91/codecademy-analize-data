{
 "cells": [
  {
   "cell_type": "markdown",
   "source": [
    "# Hacking The Fender\n",
    "The Fender, a notorious computer hacker and general villain of the people, has compromised several top-secret passwords including your own. Your mission, should you choose to accept it, is threefold. You must acquire access to The Fender‘s systems, you must update his \"passwords.txt\" file to scramble the secret data. The last thing you need to do is add the signature of Slash Null, a different hacker whose nefarious deeds could be very conveniently halted by The Fender if they viewed Slash Null as a threat.\n",
    "\n",
    "Use your knowledge of working with Python files to retrieve, manipulate, obscure, and create data in your quest for justice. Work with CSV files and other text files in this exploration of the strength of Python file programming."
   ],
   "metadata": {
    "collapsed": false,
    "pycharm": {
     "name": "#%% md\n"
    }
   }
  },
  {
   "cell_type": "code",
   "execution_count": 2,
   "metadata": {
    "collapsed": true,
    "pycharm": {
     "is_executing": false
    }
   },
   "outputs": [],
   "source": [
    "import csv\n",
    "import json\n",
    "\n",
    "compromised_users = []\n",
    "\n",
    "with open('files/passwords.csv') as password_file:\n",
    "  password_csv = csv.DictReader(password_file)\n",
    "  for password_row in password_csv:\n",
    "    #print(password_row['Username'])\n",
    "    compromised_users.append(password_row['Username'])\n",
    "\n",
    "with open('files/compromised_users.txt', 'w') as compromised_user_file:\n",
    "  for user in compromised_users:\n",
    "    compromised_user_file.write(user)\n",
    "  \n",
    "\n",
    "with open('files/boss_message.json', 'w') as boss_message:\n",
    "  boss_message_dict = {'recipient': 'The Boss', 'message': 'Mission Success'}\n",
    "  json.dump(boss_message_dict, boss_message)\n",
    "\n",
    "slash_null_sig = \"\"\" \n",
    "_  _     ___   __  ____             \n",
    "/ )( \\   / __) /  \\(_  _)            \n",
    ") \\/ (  ( (_ \\(  O ) )(              \n",
    "\\____/   \\___/ \\__/ (__)             \n",
    "_  _   __    ___  __ _  ____  ____  \n",
    "/ )( \\ / _\\  / __)(  / )(  __)(    \\ \n",
    ") __ (/    \\( (__  )  (  ) _)  ) D ( \n",
    "\\_)(_/\\_/\\_/ \\___)(__\\_)(____)(____/ \n",
    "        ____  __     __   ____  _  _ \n",
    "___   / ___)(  )   / _\\ / ___)/ )( \\\n",
    "(___)  \\___ \\/ (_/\\/    \\\\___ \\) __ (\n",
    "      (____/\\____/\\_/\\_/(____/\\_)(_/\n",
    "__ _  _  _  __    __                \n",
    "(  ( \\/ )( \\(  )  (  )               \n",
    "/    /) \\/ (/ (_/\\/ (_/\\             \n",
    "\\_)__)\\____/\\____/\\____/\n",
    "\"\"\"\n",
    "\n",
    "with open('files/new_passwords.csv', 'w') as new_passwords_obj:\n",
    "  new_passwords_obj.write(slash_null_sig)"
   ]
  }
 ],
 "metadata": {
  "kernelspec": {
   "display_name": "Python 3",
   "language": "python",
   "name": "python3"
  },
  "language_info": {
   "codemirror_mode": {
    "name": "ipython",
    "version": 2
   },
   "file_extension": ".py",
   "mimetype": "text/x-python",
   "name": "python",
   "nbconvert_exporter": "python",
   "pygments_lexer": "ipython2",
   "version": "2.7.6"
  },
  "pycharm": {
   "stem_cell": {
    "cell_type": "raw",
    "source": [],
    "metadata": {
     "collapsed": false
    }
   }
  }
 },
 "nbformat": 4,
 "nbformat_minor": 0
}