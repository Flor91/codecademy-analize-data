{
 "cells": [
  {
   "cell_type": "markdown",
   "metadata": {
    "collapsed": true,
    "pycharm": {
     "name": "#%% md\n"
    }
   },
   "source": [
    "# Lambda Functions\n"
   ]
  },
  {
   "cell_type": "markdown",
   "source": [
    "Create a lambda function named contains_a that takes an input word and returns True if the input contains the letter 'a'. Otherwise, return False."
   ],
   "metadata": {
    "collapsed": false,
    "pycharm": {
     "name": "#%% md\n"
    }
   }
  },
  {
   "cell_type": "code",
   "execution_count": 2,
   "outputs": [
    {
     "name": "stdout",
     "text": [
      "True\n",
      "True\n",
      "False\n"
     ],
     "output_type": "stream"
    }
   ],
   "source": [
    "contains_a = lambda word: 'a' in word\n",
    "\n",
    "print(contains_a(\"banana\"))\n",
    "print(contains_a(\"apple\"))\n",
    "print(contains_a(\"cherry\"))"
   ],
   "metadata": {
    "collapsed": false,
    "pycharm": {
     "name": "#%%\n",
     "is_executing": false
    }
   }
  },
  {
   "cell_type": "markdown",
   "source": [
    "Create a lambda function named long_string that takes an input str and returns True if the string has over 12 characters in it. Otherwise, return False."
   ],
   "metadata": {
    "collapsed": false
   }
  },
  {
   "cell_type": "code",
   "execution_count": 3,
   "outputs": [
    {
     "name": "stdout",
     "text": [
      "False\n",
      "True\n"
     ],
     "output_type": "stream"
    }
   ],
   "source": [
    "long_string = lambda a: len(a) >12\n",
    "\n",
    "print(long_string(\"short\"))\n",
    "print(long_string(\"photosynthesis\"))"
   ],
   "metadata": {
    "collapsed": false,
    "pycharm": {
     "name": "#%%\n",
     "is_executing": false
    }
   }
  },
  {
   "cell_type": "markdown",
   "source": [
    "Create a lambda function named ends_in_a that takes an input str and returns True if the last character in the string is an a. Otherwise, return False."
   ],
   "metadata": {
    "collapsed": false
   }
  },
  {
   "cell_type": "code",
   "execution_count": 4,
   "outputs": [
    {
     "name": "stdout",
     "text": [
      "True\n",
      "False\n"
     ],
     "output_type": "stream"
    }
   ],
   "source": [
    "ends_in_a = lambda a: a[-1] == 'a'\n",
    "\n",
    "print(ends_in_a(\"data\"))\n",
    "print(ends_in_a(\"aardvark\"))"
   ],
   "metadata": {
    "collapsed": false,
    "pycharm": {
     "name": "#%%\n",
     "is_executing": false
    }
   }
  },
  {
   "cell_type": "markdown",
   "source": [
    "Create a lambda function named double_or_zero that takes an integer named num. If num is greater than 10, return double num. Otherwise, return 0."
   ],
   "metadata": {
    "collapsed": false
   }
  },
  {
   "cell_type": "code",
   "execution_count": 5,
   "outputs": [
    {
     "name": "stdout",
     "text": [
      "30\n",
      "0\n"
     ],
     "output_type": "stream"
    }
   ],
   "source": [
    "double_or_zero = lambda num: num * 2 if num > 10 else 0\n",
    "\n",
    "print(double_or_zero(15))\n",
    "print(double_or_zero(5))"
   ],
   "metadata": {
    "collapsed": false,
    "pycharm": {
     "name": "#%%\n",
     "is_executing": false
    }
   }
  },
  {
   "cell_type": "markdown",
   "source": [
    "Create a lambda function named even_or_odd that takes an integer named num. If num is even, return \"even\". If num is odd, return \"odd\"."
   ],
   "metadata": {
    "collapsed": false
   }
  },
  {
   "cell_type": "code",
   "execution_count": 6,
   "outputs": [
    {
     "name": "stdout",
     "text": [
      "even\n",
      "odd\n"
     ],
     "output_type": "stream"
    }
   ],
   "source": [
    "even_or_odd = lambda n: 'even' if n % 2 == 0 else 'odd'\n",
    "\n",
    "print(even_or_odd(10))\n",
    "print(even_or_odd(5))"
   ],
   "metadata": {
    "collapsed": false,
    "pycharm": {
     "name": "#%%\n",
     "is_executing": false
    }
   }
  },
  {
   "cell_type": "markdown",
   "source": [
    "Create a lambda function named multiple_of_three that takes an integer named num. If num is a multiple of three, return \"multiple of three\". Otherwise, return \"not a multiple\"."
   ],
   "metadata": {
    "collapsed": false
   }
  },
  {
   "cell_type": "code",
   "execution_count": 7,
   "outputs": [
    {
     "name": "stdout",
     "text": [
      "multiple of three\n",
      "not a multiple\n"
     ],
     "output_type": "stream"
    }
   ],
   "source": [
    "multiple_of_three = lambda num: 'multiple of three' if num%3 == 0 else 'not a multiple'\n",
    "\n",
    "print(multiple_of_three(9))\n",
    "print(multiple_of_three(10))"
   ],
   "metadata": {
    "collapsed": false,
    "pycharm": {
     "name": "#%%\n",
     "is_executing": false
    }
   }
  },
  {
   "cell_type": "markdown",
   "source": [
    "Create a lambda function named rate_movie that takes a number named rating. If rating is greater than 8.5, return \"I liked this movie\". Otherwise return \"This movie was not very good\"."
   ],
   "metadata": {
    "collapsed": false
   }
  },
  {
   "cell_type": "code",
   "execution_count": 8,
   "outputs": [
    {
     "name": "stdout",
     "text": [
      "I liked this movie\n",
      "This movie was not very good\n"
     ],
     "output_type": "stream"
    }
   ],
   "source": [
    "rate_movie = lambda r: 'I liked this movie' if r > 8.5 else 'This movie was not very good'\n",
    "\n",
    "print(rate_movie(9.2))\n",
    "print(rate_movie(7.2))"
   ],
   "metadata": {
    "collapsed": false,
    "pycharm": {
     "name": "#%%\n",
     "is_executing": false
    }
   }
  },
  {
   "cell_type": "markdown",
   "source": [
    "Create a lambda function named ones_place that returns the ones’ place of the input num."
   ],
   "metadata": {
    "collapsed": false
   }
  },
  {
   "cell_type": "code",
   "execution_count": 9,
   "outputs": [
    {
     "name": "stdout",
     "text": [
      "3\n",
      "4\n"
     ],
     "output_type": "stream"
    }
   ],
   "source": [
    "ones_place= lambda n: n%10\n",
    "\n",
    "print(ones_place(123))\n",
    "print(ones_place(4))"
   ],
   "metadata": {
    "collapsed": false,
    "pycharm": {
     "name": "#%%\n",
     "is_executing": false
    }
   }
  },
  {
   "cell_type": "markdown",
   "source": [
    "Create a lambda function named double_square that takes an input named num. The function should return twice the square of num."
   ],
   "metadata": {
    "collapsed": false
   }
  },
  {
   "cell_type": "code",
   "execution_count": 10,
   "outputs": [
    {
     "name": "stdout",
     "text": [
      "50\n",
      "18\n"
     ],
     "output_type": "stream"
    }
   ],
   "source": [
    "double_square = lambda n: 2*n**2\n",
    "\n",
    "print(double_square(5))\n",
    "print(double_square(3))"
   ],
   "metadata": {
    "collapsed": false,
    "pycharm": {
     "name": "#%%\n",
     "is_executing": false
    }
   }
  },
  {
   "cell_type": "markdown",
   "source": [
    "Create a lambda function named add_random that takes an input named num. The function should return num plus a random integer number between 1 and 10 (inclusive)."
   ],
   "metadata": {
    "collapsed": false
   }
  },
  {
   "cell_type": "code",
   "execution_count": 11,
   "outputs": [
    {
     "name": "stdout",
     "text": [
      "8\n",
      "107\n"
     ],
     "output_type": "stream"
    }
   ],
   "source": [
    "import random\n",
    "add_random = lambda n: n + random.randint(1,10)\n",
    "\n",
    "print(add_random(5))\n",
    "print(add_random(100))\n"
   ],
   "metadata": {
    "collapsed": false,
    "pycharm": {
     "name": "#%%\n",
     "is_executing": false
    }
   }
  }
 ],
 "metadata": {
  "kernelspec": {
   "display_name": "Python 3",
   "language": "python",
   "name": "python3"
  },
  "language_info": {
   "codemirror_mode": {
    "name": "ipython",
    "version": 2
   },
   "file_extension": ".py",
   "mimetype": "text/x-python",
   "name": "python",
   "nbconvert_exporter": "python",
   "pygments_lexer": "ipython2",
   "version": "2.7.6"
  },
  "pycharm": {
   "stem_cell": {
    "cell_type": "raw",
    "source": [],
    "metadata": {
     "collapsed": false
    }
   }
  }
 },
 "nbformat": 4,
 "nbformat_minor": 0
}