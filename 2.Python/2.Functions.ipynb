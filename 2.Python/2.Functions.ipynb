{
 "cells": [
  {
   "cell_type": "markdown",
   "metadata": {
    "collapsed": true,
    "pycharm": {
     "name": "#%% md\n"
    }
   },
   "source": [
    "# Getting Ready for Physics Class\n",
    "You are a physics teacher preparing for the upcoming semester. You want to provide your students with some functions that will help them calculate some fundamental physical properties."
   ]
  },
  {
   "cell_type": "markdown",
   "source": [
    "Write a function called f_to_c that takes an input f_temp, a temperature in Fahrenheit, and converts it to c_temp, that temperature in Celsius.\n",
    "\n",
    "It should then return c_temp.\n",
    "\n",
    "Let’s test your function with a value of 100 Fahrenheit."
   ],
   "metadata": {
    "collapsed": false
   }
  },
  {
   "cell_type": "code",
   "execution_count": 1,
   "outputs": [],
   "source": [
    "def f_to_c(f_temp):\n",
    "  c_temp = (f_temp - 32) * 5/9\n",
    "  return c_temp\n",
    "\n",
    "f100_in_celsius = f_to_c(100)\n"
   ],
   "metadata": {
    "collapsed": false,
    "pycharm": {
     "name": "#%%\n",
     "is_executing": false
    }
   }
  },
  {
   "cell_type": "markdown",
   "source": [
    "Write a function called c_to_f that takes an input c_temp, a temperature in Celsius, and converts it to f_temp, that temperature in Fahrenheit.\n",
    "\n",
    "It should then return f_temp.\n",
    "\n",
    "Let’s test your function with a value of 0 Celsius."
   ],
   "metadata": {
    "collapsed": false
   }
  },
  {
   "cell_type": "code",
   "execution_count": 2,
   "outputs": [],
   "source": [
    "def c_to_f(c_temp):\n",
    "  f_temp = c_temp * (9/5) + 32\n",
    "  return f_temp\n",
    "\n",
    "c0_in_fahrenheit = c_to_f(0)\n"
   ],
   "metadata": {
    "collapsed": false,
    "pycharm": {
     "name": "#%%\n",
     "is_executing": false
    }
   }
  },
  {
   "cell_type": "markdown",
   "source": [
    "Define a function called get_force that takes in mass and acceleration. It should return mass multiplied by acceleration.\n",
    "\n",
    "Test get_force by calling it with the variables train_mass and train_acceleration.\n",
    "\n",
    "Save the result to a variable called train_force and print it out."
   ],
   "metadata": {
    "collapsed": false
   }
  },
  {
   "cell_type": "code",
   "execution_count": 3,
   "outputs": [
    {
     "name": "stdout",
     "text": [
      "The GE train supplies 226800 Newtons of force.\n"
     ],
     "output_type": "stream"
    }
   ],
   "source": [
    "train_mass = 22680\n",
    "train_acceleration = 10\n",
    "train_distance = 100\n",
    "\n",
    "def get_force(mass, acceleration):\n",
    "  return mass * acceleration\n",
    "\n",
    "train_force = get_force(train_mass, train_acceleration)\n",
    "\n",
    "print(\"The GE train supplies \" + str(train_force) + \" Newtons of force.\")"
   ],
   "metadata": {
    "collapsed": false,
    "pycharm": {
     "name": "#%%\n",
     "is_executing": false
    }
   }
  },
  {
   "cell_type": "markdown",
   "source": [
    "Define a function called get_energy that takes in mass and c.\n",
    "\n",
    "c is a constant that is usually set to the speed of light, which is roughly 3 x 10^8. Set c to have a default value of 3*10**8.\n",
    "\n",
    "get_energy should return mass multiplied by c squared."
   ],
   "metadata": {
    "collapsed": false
   }
  },
  {
   "cell_type": "code",
   "execution_count": 4,
   "outputs": [
    {
     "name": "stdout",
     "text": [
      "A 1kg bomb supplies 300000000 Joules.\n"
     ],
     "output_type": "stream"
    }
   ],
   "source": [
    "bomb_mass = 1\n",
    "\n",
    "def get_energy(mass, c=3*10**8):\n",
    "  return mass * c\n",
    "\n",
    "bomb_energy = get_energy(bomb_mass)\n",
    "\n",
    "print(\"A 1kg bomb supplies \" + str(bomb_energy) + \" Joules.\")"
   ],
   "metadata": {
    "collapsed": false,
    "pycharm": {
     "name": "#%%\n",
     "is_executing": false
    }
   }
  },
  {
   "cell_type": "markdown",
   "source": [
    "Define a final function called get_work that takes in mass, acceleration, and distance.\n",
    "\n",
    "Work is defined as force multiplied by distance. First, get the force using get_force, then multiply that by distance. Return the result.\n",
    "\n"
   ],
   "metadata": {
    "collapsed": false
   }
  },
  {
   "cell_type": "code",
   "execution_count": 5,
   "outputs": [],
   "source": [
    "def get_work(mass, acceleration, distance):\n",
    "  work = get_force(mass, acceleration) * distance\n",
    "  return work\n"
   ],
   "metadata": {
    "collapsed": false,
    "pycharm": {
     "name": "#%%\n",
     "is_executing": false
    }
   }
  },
  {
   "cell_type": "markdown",
   "source": [
    "Test get_work by using it on train_mass, train_acceleration, and train_distance. Save the result to a variable called train_work."
   ],
   "metadata": {
    "collapsed": false
   }
  },
  {
   "cell_type": "code",
   "execution_count": 6,
   "outputs": [
    {
     "name": "stdout",
     "text": [
      "The GE train does 22680000 Joules of work over 100 meters.\n"
     ],
     "output_type": "stream"
    }
   ],
   "source": [
    "train_work = get_work(train_mass, train_acceleration, train_distance)\n",
    "\n",
    "print(\"The GE train does \" + str(train_work) + \" Joules of work over \" + str(train_distance) + \" meters.\")\n",
    "\n"
   ],
   "metadata": {
    "collapsed": false,
    "pycharm": {
     "name": "#%%\n",
     "is_executing": false
    }
   }
  }
 ],
 "metadata": {
  "kernelspec": {
   "display_name": "Python 3",
   "language": "python",
   "name": "python3"
  },
  "language_info": {
   "codemirror_mode": {
    "name": "ipython",
    "version": 2
   },
   "file_extension": ".py",
   "mimetype": "text/x-python",
   "name": "python",
   "nbconvert_exporter": "python",
   "pygments_lexer": "ipython2",
   "version": "2.7.6"
  },
  "pycharm": {
   "stem_cell": {
    "cell_type": "raw",
    "source": [],
    "metadata": {
     "collapsed": false
    }
   }
  }
 },
 "nbformat": 4,
 "nbformat_minor": 0
}